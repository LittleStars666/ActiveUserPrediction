{
 "cells": [
  {
   "cell_type": "code",
   "execution_count": 1,
   "metadata": {},
   "outputs": [
    {
     "data": {
      "text/html": [
       "<script>requirejs.config({paths: { 'plotly': ['https://cdn.plot.ly/plotly-latest.min']},});if(!window.Plotly) {{require(['plotly'],function(plotly) {window.Plotly=plotly;});}}</script>"
      ]
     },
     "metadata": {},
     "output_type": "execute_result"
    },
    {
     "name": "stdout",
     "output_type": "stream",
     "text": [
      "['user_register_log.txt', 'video_create_log.txt', 'user_activity_log.txt', 'app_launch_log.txt']\n"
     ]
    }
   ],
   "source": [
    "# IMPORTING LIBRARIES\n",
    "import numpy as np\n",
    "import matplotlib.pyplot as plt\n",
    "from PIL import  Image\n",
    "%matplotlib inline\n",
    "import pandas as pd\n",
    "import seaborn as sns\n",
    "import itertools\n",
    "import warnings\n",
    "warnings.filterwarnings(\"ignore\")\n",
    "from wordcloud import WordCloud,STOPWORDS\n",
    "import io\n",
    "import base64\n",
    "from matplotlib import rc,animation\n",
    "from mpl_toolkits.mplot3d import Axes3D\n",
    "# from mpl_toolkits.basemap import Basemap\n",
    "import folium\n",
    "import folium.plugins\n",
    "import plotly.offline as py\n",
    "py.init_notebook_mode(connected=True)\n",
    "import plotly.graph_objs as go\n",
    "import plotly.tools as tls\n",
    "import os\n",
    "import sys\n",
    "sys.path.append('../')\n",
    "from utils.utils_misc import convert_data\n",
    "print(os.listdir(\"../input\"))"
   ]
  },
  {
   "cell_type": "code",
   "execution_count": 3,
   "metadata": {},
   "outputs": [
    {
     "name": "stdout",
     "output_type": "stream",
     "text": [
      "Memory usage of dataframe is 1.23 MB\n",
      "Memory usage after optimization is: 0.62 MB\n",
      "Decreased by 49.7%\n"
     ]
    }
   ],
   "source": [
    "user_register_log = [\"user_id\", \"register_day\", \"register_type\", \"device_type\"]\n",
    "dtype_user_register = {\"user_id\": str, \"register_day\": np.uint8, \"register_type\": str, \"device_type\": str}\n",
    "df_user_register = pd.read_table(\"../input/user_register_log.txt\",header=None,names=user_register_log,index_col=None,dtype=dtype_user_register)\n",
    "df_user_register = convert_data(df_user_register)"
   ]
  },
  {
   "cell_type": "code",
   "execution_count": 4,
   "metadata": {},
   "outputs": [
    {
     "name": "stdout",
     "output_type": "stream",
     "text": [
      "Memory usage of dataframe is 0.31 MB\n",
      "Memory usage after optimization is: 0.16 MB\n",
      "Decreased by 47.9%\n"
     ]
    }
   ],
   "source": [
    "video_create_log = [\"user_id\", \"video_create_day\"]\n",
    "dtype_video_create = {\"user_id\": str, \"video_create_day\": np.uint8}\n",
    "df_video_create = pd.read_table(\"../input/video_create_log.txt\",header=None,names=video_create_log,index_col=None,dtype=dtype_video_create)\n",
    "df_video_create = convert_data(df_video_create)"
   ]
  },
  {
   "cell_type": "code",
   "execution_count": 5,
   "metadata": {},
   "outputs": [
    {
     "name": "stdout",
     "output_type": "stream",
     "text": [
      "Memory usage of dataframe is 2.17 MB\n",
      "Memory usage after optimization is: 1.60 MB\n",
      "Decreased by 26.3%\n"
     ]
    }
   ],
   "source": [
    "app_launch_log = [\"user_id\",\"app_launch_day\"]\n",
    "dtype_app_launch =  {\"user_id\":str,\"app_launch_day\":np.uint8}\n",
    "df_app_launch = pd.read_table(\"../input/app_launch_log.txt\",header=None,names=app_launch_log,index_col=None,dtype=dtype_app_launch)\n",
    "df_app_launch = convert_data(df_app_launch)\n"
   ]
  },
  {
   "cell_type": "code",
   "execution_count": 7,
   "metadata": {},
   "outputs": [
    {
     "name": "stdout",
     "output_type": "stream",
     "text": [
      "Memory usage of dataframe is 542.60 MB\n",
      "Memory usage after optimization is: 346.56 MB\n",
      "Decreased by 36.1%\n"
     ]
    }
   ],
   "source": [
    "user_activity_log = [\"user_id\", \"user_activity_day\", \"page\", \"video_id\", \"author_id\", \"action_type\"]\n",
    "dtype_user_activity = {\"user_id\": str, \"user_activity_day\": np.uint8, \"page\": np.uint8, \"video_id\": str,\n",
    "                           \"author_id\":str, \"action_type\": np.uint8}\n",
    "df_user_activity = pd.read_table(\"../input/user_activity_log.txt\",header=None,names=user_activity_log,index_col=None,dtype=dtype_user_activity)\n",
    "df_user_activity = convert_data(df_user_activity)\n"
   ]
  },
  {
   "cell_type": "code",
   "execution_count": 8,
   "metadata": {},
   "outputs": [
    {
     "name": "stdout",
     "output_type": "stream",
     "text": [
      "df_user_register    : (51480, 4)\n",
      "df_video_create     : (35849, 2)\n",
      "df_user_activity    : (21072403, 6)\n",
      "df_app_launch        : (252496, 2)\n"
     ]
    }
   ],
   "source": [
    "print (\"df_user_register    :\",df_user_register.shape)\n",
    "print (\"df_video_create     :\",df_video_create.shape)\n",
    "print (\"df_user_activity    :\",df_user_activity.shape)\n",
    "print (\"df_app_launch        :\",df_app_launch.shape)"
   ]
  },
  {
   "cell_type": "code",
   "execution_count": null,
   "metadata": {},
   "outputs": [],
   "source": []
  },
  {
   "cell_type": "code",
   "execution_count": 11,
   "metadata": {},
   "outputs": [
    {
     "data": {
      "text/plain": [
       "'df_user_register'"
      ]
     },
     "metadata": {},
     "output_type": "display_data"
    },
    {
     "data": {
      "text/html": [
       "<div>\n",
       "<style scoped>\n",
       "    .dataframe tbody tr th:only-of-type {\n",
       "        vertical-align: middle;\n",
       "    }\n",
       "\n",
       "    .dataframe tbody tr th {\n",
       "        vertical-align: top;\n",
       "    }\n",
       "\n",
       "    .dataframe thead th {\n",
       "        text-align: right;\n",
       "    }\n",
       "</style>\n",
       "<table border=\"1\" class=\"dataframe\">\n",
       "  <thead>\n",
       "    <tr style=\"text-align: right;\">\n",
       "      <th></th>\n",
       "      <th>user_id</th>\n",
       "      <th>register_day</th>\n",
       "      <th>register_type</th>\n",
       "      <th>device_type</th>\n",
       "    </tr>\n",
       "  </thead>\n",
       "  <tbody>\n",
       "    <tr>\n",
       "      <th>0</th>\n",
       "      <td>167777</td>\n",
       "      <td>1</td>\n",
       "      <td>4</td>\n",
       "      <td>270</td>\n",
       "    </tr>\n",
       "    <tr>\n",
       "      <th>1</th>\n",
       "      <td>886972</td>\n",
       "      <td>1</td>\n",
       "      <td>0</td>\n",
       "      <td>5</td>\n",
       "    </tr>\n",
       "    <tr>\n",
       "      <th>2</th>\n",
       "      <td>921231</td>\n",
       "      <td>1</td>\n",
       "      <td>0</td>\n",
       "      <td>0</td>\n",
       "    </tr>\n",
       "    <tr>\n",
       "      <th>3</th>\n",
       "      <td>904908</td>\n",
       "      <td>1</td>\n",
       "      <td>1</td>\n",
       "      <td>49</td>\n",
       "    </tr>\n",
       "    <tr>\n",
       "      <th>4</th>\n",
       "      <td>460291</td>\n",
       "      <td>2</td>\n",
       "      <td>0</td>\n",
       "      <td>72</td>\n",
       "    </tr>\n",
       "    <tr>\n",
       "      <th>5</th>\n",
       "      <td>1096316</td>\n",
       "      <td>2</td>\n",
       "      <td>1</td>\n",
       "      <td>4912</td>\n",
       "    </tr>\n",
       "    <tr>\n",
       "      <th>6</th>\n",
       "      <td>641814</td>\n",
       "      <td>2</td>\n",
       "      <td>0</td>\n",
       "      <td>11</td>\n",
       "    </tr>\n",
       "    <tr>\n",
       "      <th>7</th>\n",
       "      <td>816839</td>\n",
       "      <td>2</td>\n",
       "      <td>1</td>\n",
       "      <td>1454</td>\n",
       "    </tr>\n",
       "    <tr>\n",
       "      <th>8</th>\n",
       "      <td>914942</td>\n",
       "      <td>3</td>\n",
       "      <td>0</td>\n",
       "      <td>67</td>\n",
       "    </tr>\n",
       "    <tr>\n",
       "      <th>9</th>\n",
       "      <td>450362</td>\n",
       "      <td>3</td>\n",
       "      <td>1</td>\n",
       "      <td>6</td>\n",
       "    </tr>\n",
       "  </tbody>\n",
       "</table>\n",
       "</div>"
      ],
      "text/plain": [
       "   user_id  register_day register_type device_type\n",
       "0   167777             1             4         270\n",
       "1   886972             1             0           5\n",
       "2   921231             1             0           0\n",
       "3   904908             1             1          49\n",
       "4   460291             2             0          72\n",
       "5  1096316             2             1        4912\n",
       "6   641814             2             0          11\n",
       "7   816839             2             1        1454\n",
       "8   914942             3             0          67\n",
       "9   450362             3             1           6"
      ]
     },
     "metadata": {},
     "output_type": "execute_result"
    },
    {
     "data": {
      "text/plain": [
       "'df_video_create'"
      ]
     },
     "metadata": {},
     "output_type": "display_data"
    },
    {
     "data": {
      "text/html": [
       "<div>\n",
       "<style scoped>\n",
       "    .dataframe tbody tr th:only-of-type {\n",
       "        vertical-align: middle;\n",
       "    }\n",
       "\n",
       "    .dataframe tbody tr th {\n",
       "        vertical-align: top;\n",
       "    }\n",
       "\n",
       "    .dataframe thead th {\n",
       "        text-align: right;\n",
       "    }\n",
       "</style>\n",
       "<table border=\"1\" class=\"dataframe\">\n",
       "  <thead>\n",
       "    <tr style=\"text-align: right;\">\n",
       "      <th></th>\n",
       "      <th>user_id</th>\n",
       "      <th>video_create_day</th>\n",
       "    </tr>\n",
       "  </thead>\n",
       "  <tbody>\n",
       "    <tr>\n",
       "      <th>0</th>\n",
       "      <td>123785</td>\n",
       "      <td>6</td>\n",
       "    </tr>\n",
       "    <tr>\n",
       "      <th>1</th>\n",
       "      <td>123785</td>\n",
       "      <td>5</td>\n",
       "    </tr>\n",
       "    <tr>\n",
       "      <th>2</th>\n",
       "      <td>123785</td>\n",
       "      <td>8</td>\n",
       "    </tr>\n",
       "    <tr>\n",
       "      <th>3</th>\n",
       "      <td>123785</td>\n",
       "      <td>5</td>\n",
       "    </tr>\n",
       "    <tr>\n",
       "      <th>4</th>\n",
       "      <td>123785</td>\n",
       "      <td>5</td>\n",
       "    </tr>\n",
       "    <tr>\n",
       "      <th>5</th>\n",
       "      <td>123785</td>\n",
       "      <td>5</td>\n",
       "    </tr>\n",
       "    <tr>\n",
       "      <th>6</th>\n",
       "      <td>123785</td>\n",
       "      <td>5</td>\n",
       "    </tr>\n",
       "    <tr>\n",
       "      <th>7</th>\n",
       "      <td>123785</td>\n",
       "      <td>6</td>\n",
       "    </tr>\n",
       "    <tr>\n",
       "      <th>8</th>\n",
       "      <td>123785</td>\n",
       "      <td>5</td>\n",
       "    </tr>\n",
       "    <tr>\n",
       "      <th>9</th>\n",
       "      <td>123785</td>\n",
       "      <td>5</td>\n",
       "    </tr>\n",
       "  </tbody>\n",
       "</table>\n",
       "</div>"
      ],
      "text/plain": [
       "  user_id  video_create_day\n",
       "0  123785                 6\n",
       "1  123785                 5\n",
       "2  123785                 8\n",
       "3  123785                 5\n",
       "4  123785                 5\n",
       "5  123785                 5\n",
       "6  123785                 5\n",
       "7  123785                 6\n",
       "8  123785                 5\n",
       "9  123785                 5"
      ]
     },
     "metadata": {},
     "output_type": "execute_result"
    },
    {
     "data": {
      "text/plain": [
       "'df_user_activity'"
      ]
     },
     "metadata": {},
     "output_type": "display_data"
    },
    {
     "data": {
      "text/html": [
       "<div>\n",
       "<style scoped>\n",
       "    .dataframe tbody tr th:only-of-type {\n",
       "        vertical-align: middle;\n",
       "    }\n",
       "\n",
       "    .dataframe tbody tr th {\n",
       "        vertical-align: top;\n",
       "    }\n",
       "\n",
       "    .dataframe thead th {\n",
       "        text-align: right;\n",
       "    }\n",
       "</style>\n",
       "<table border=\"1\" class=\"dataframe\">\n",
       "  <thead>\n",
       "    <tr style=\"text-align: right;\">\n",
       "      <th></th>\n",
       "      <th>user_id</th>\n",
       "      <th>user_activity_day</th>\n",
       "      <th>page</th>\n",
       "      <th>video_id</th>\n",
       "      <th>author_id</th>\n",
       "      <th>action_type</th>\n",
       "    </tr>\n",
       "  </thead>\n",
       "  <tbody>\n",
       "    <tr>\n",
       "      <th>0</th>\n",
       "      <td>1185527</td>\n",
       "      <td>13</td>\n",
       "      <td>0</td>\n",
       "      <td>2685033</td>\n",
       "      <td>1150188</td>\n",
       "      <td>0</td>\n",
       "    </tr>\n",
       "    <tr>\n",
       "      <th>1</th>\n",
       "      <td>282033</td>\n",
       "      <td>14</td>\n",
       "      <td>1</td>\n",
       "      <td>331791</td>\n",
       "      <td>400971</td>\n",
       "      <td>0</td>\n",
       "    </tr>\n",
       "    <tr>\n",
       "      <th>2</th>\n",
       "      <td>209866</td>\n",
       "      <td>15</td>\n",
       "      <td>0</td>\n",
       "      <td>4081958</td>\n",
       "      <td>541368</td>\n",
       "      <td>0</td>\n",
       "    </tr>\n",
       "    <tr>\n",
       "      <th>3</th>\n",
       "      <td>802521</td>\n",
       "      <td>13</td>\n",
       "      <td>0</td>\n",
       "      <td>4081958</td>\n",
       "      <td>541368</td>\n",
       "      <td>0</td>\n",
       "    </tr>\n",
       "    <tr>\n",
       "      <th>4</th>\n",
       "      <td>342650</td>\n",
       "      <td>13</td>\n",
       "      <td>0</td>\n",
       "      <td>3705772</td>\n",
       "      <td>1301397</td>\n",
       "      <td>0</td>\n",
       "    </tr>\n",
       "    <tr>\n",
       "      <th>5</th>\n",
       "      <td>439402</td>\n",
       "      <td>13</td>\n",
       "      <td>0</td>\n",
       "      <td>1688622</td>\n",
       "      <td>1020060</td>\n",
       "      <td>0</td>\n",
       "    </tr>\n",
       "    <tr>\n",
       "      <th>6</th>\n",
       "      <td>452630</td>\n",
       "      <td>13</td>\n",
       "      <td>2</td>\n",
       "      <td>1728793</td>\n",
       "      <td>515040</td>\n",
       "      <td>0</td>\n",
       "    </tr>\n",
       "    <tr>\n",
       "      <th>7</th>\n",
       "      <td>439402</td>\n",
       "      <td>13</td>\n",
       "      <td>0</td>\n",
       "      <td>2357457</td>\n",
       "      <td>423293</td>\n",
       "      <td>0</td>\n",
       "    </tr>\n",
       "    <tr>\n",
       "      <th>8</th>\n",
       "      <td>148594</td>\n",
       "      <td>25</td>\n",
       "      <td>3</td>\n",
       "      <td>1404450</td>\n",
       "      <td>1229933</td>\n",
       "      <td>0</td>\n",
       "    </tr>\n",
       "    <tr>\n",
       "      <th>9</th>\n",
       "      <td>520164</td>\n",
       "      <td>13</td>\n",
       "      <td>2</td>\n",
       "      <td>3195206</td>\n",
       "      <td>380899</td>\n",
       "      <td>0</td>\n",
       "    </tr>\n",
       "  </tbody>\n",
       "</table>\n",
       "</div>"
      ],
      "text/plain": [
       "   user_id  user_activity_day  page video_id author_id  action_type\n",
       "0  1185527                 13     0  2685033   1150188            0\n",
       "1   282033                 14     1   331791    400971            0\n",
       "2   209866                 15     0  4081958    541368            0\n",
       "3   802521                 13     0  4081958    541368            0\n",
       "4   342650                 13     0  3705772   1301397            0\n",
       "5   439402                 13     0  1688622   1020060            0\n",
       "6   452630                 13     2  1728793    515040            0\n",
       "7   439402                 13     0  2357457    423293            0\n",
       "8   148594                 25     3  1404450   1229933            0\n",
       "9   520164                 13     2  3195206    380899            0"
      ]
     },
     "metadata": {},
     "output_type": "execute_result"
    },
    {
     "data": {
      "text/plain": [
       "'df_app_launch'"
      ]
     },
     "metadata": {},
     "output_type": "display_data"
    },
    {
     "data": {
      "text/html": [
       "<div>\n",
       "<style scoped>\n",
       "    .dataframe tbody tr th:only-of-type {\n",
       "        vertical-align: middle;\n",
       "    }\n",
       "\n",
       "    .dataframe tbody tr th {\n",
       "        vertical-align: top;\n",
       "    }\n",
       "\n",
       "    .dataframe thead th {\n",
       "        text-align: right;\n",
       "    }\n",
       "</style>\n",
       "<table border=\"1\" class=\"dataframe\">\n",
       "  <thead>\n",
       "    <tr style=\"text-align: right;\">\n",
       "      <th></th>\n",
       "      <th>user_id</th>\n",
       "      <th>app_launch_day</th>\n",
       "    </tr>\n",
       "  </thead>\n",
       "  <tbody>\n",
       "    <tr>\n",
       "      <th>0</th>\n",
       "      <td>1287915</td>\n",
       "      <td>3</td>\n",
       "    </tr>\n",
       "    <tr>\n",
       "      <th>1</th>\n",
       "      <td>1287915</td>\n",
       "      <td>4</td>\n",
       "    </tr>\n",
       "    <tr>\n",
       "      <th>2</th>\n",
       "      <td>1287915</td>\n",
       "      <td>8</td>\n",
       "    </tr>\n",
       "    <tr>\n",
       "      <th>3</th>\n",
       "      <td>1287915</td>\n",
       "      <td>14</td>\n",
       "    </tr>\n",
       "    <tr>\n",
       "      <th>4</th>\n",
       "      <td>1287915</td>\n",
       "      <td>15</td>\n",
       "    </tr>\n",
       "    <tr>\n",
       "      <th>5</th>\n",
       "      <td>1287915</td>\n",
       "      <td>16</td>\n",
       "    </tr>\n",
       "    <tr>\n",
       "      <th>6</th>\n",
       "      <td>1287915</td>\n",
       "      <td>19</td>\n",
       "    </tr>\n",
       "    <tr>\n",
       "      <th>7</th>\n",
       "      <td>356878</td>\n",
       "      <td>21</td>\n",
       "    </tr>\n",
       "    <tr>\n",
       "      <th>8</th>\n",
       "      <td>356878</td>\n",
       "      <td>25</td>\n",
       "    </tr>\n",
       "    <tr>\n",
       "      <th>9</th>\n",
       "      <td>356878</td>\n",
       "      <td>26</td>\n",
       "    </tr>\n",
       "  </tbody>\n",
       "</table>\n",
       "</div>"
      ],
      "text/plain": [
       "   user_id  app_launch_day\n",
       "0  1287915               3\n",
       "1  1287915               4\n",
       "2  1287915               8\n",
       "3  1287915              14\n",
       "4  1287915              15\n",
       "5  1287915              16\n",
       "6  1287915              19\n",
       "7   356878              21\n",
       "8   356878              25\n",
       "9   356878              26"
      ]
     },
     "metadata": {},
     "output_type": "execute_result"
    }
   ],
   "source": [
    "display(\"df_user_register\")\n",
    "display(df_user_register.head(10))\n",
    "display(\"df_video_create\")\n",
    "display(df_video_create.head(10))\n",
    "display(\"df_user_activity\")\n",
    "display(df_user_activity.head(10))\n",
    "display(\"df_app_launch\")\n",
    "display(df_app_launch.head(10))"
   ]
  },
  {
   "cell_type": "code",
   "execution_count": 12,
   "metadata": {},
   "outputs": [
    {
     "name": "stdout",
     "output_type": "stream",
     "text": [
      "Your selected dataframe has 4 columns.\n",
      "There are 0 columns that have missing values.\n"
     ]
    }
   ],
   "source": [
    "from utils.util_analysis import missing_values_table\n",
    "df_user_register_missing = missing_values_table(df_user_register)"
   ]
  },
  {
   "cell_type": "code",
   "execution_count": 13,
   "metadata": {},
   "outputs": [
    {
     "name": "stdout",
     "output_type": "stream",
     "text": [
      "Your selected dataframe has 2 columns.\n",
      "There are 0 columns that have missing values.\n"
     ]
    }
   ],
   "source": [
    "df_video_create_missing = missing_values_table(df_video_create)"
   ]
  },
  {
   "cell_type": "code",
   "execution_count": 14,
   "metadata": {},
   "outputs": [
    {
     "name": "stdout",
     "output_type": "stream",
     "text": [
      "Your selected dataframe has 2 columns.\n",
      "There are 0 columns that have missing values.\n"
     ]
    }
   ],
   "source": [
    "df_app_launch_missing = missing_values_table(df_app_launch)"
   ]
  },
  {
   "cell_type": "code",
   "execution_count": 15,
   "metadata": {},
   "outputs": [
    {
     "name": "stdout",
     "output_type": "stream",
     "text": [
      "Your selected dataframe has 6 columns.\n",
      "There are 0 columns that have missing values.\n"
     ]
    }
   ],
   "source": [
    "df_user_activity_missing = missing_values_table(df_user_activity)"
   ]
  },
  {
   "cell_type": "code",
   "execution_count": 23,
   "metadata": {},
   "outputs": [
    {
     "name": "stdout",
     "output_type": "stream",
     "text": [
      "24    2979\n",
      "21    2450\n",
      "22    2384\n",
      "23    2266\n",
      "13    2214\n",
      "27    2195\n",
      "28    2107\n",
      "14    2102\n",
      "6     1844\n",
      "29    1812\n",
      "20    1780\n",
      "30    1759\n",
      "12    1748\n",
      "7     1723\n",
      "26    1711\n",
      "25    1582\n",
      "15    1581\n",
      "19    1543\n",
      "16    1541\n",
      "18    1506\n",
      "17    1483\n",
      "10    1389\n",
      "11    1377\n",
      "5     1368\n",
      "1     1229\n",
      "8     1218\n",
      "3     1209\n",
      "2     1142\n",
      "4     1134\n",
      "9     1104\n",
      "Name: register_day, dtype: int64\n"
     ]
    }
   ],
   "source": [
    "temp = df_user_register['register_day'].value_counts()\n",
    "print(temp)"
   ]
  },
  {
   "cell_type": "code",
   "execution_count": 31,
   "metadata": {},
   "outputs": [
    {
     "data": {
      "image/png": "[encoded data removed]",
      "text/plain": [
       "<Figure size 864x360 with 1 Axes>"
      ]
     },
     "metadata": {},
     "output_type": "display_data"
    }
   ],
   "source": [
    "# sns.countplot(x='register_day', data=df_user_register\n",
    "\n",
    "plt.figure(figsize=(12,5))\n",
    "plt.title(\"Distribution of register day\")\n",
    "ax = sns.distplot(df_user_register[\"register_day\"],bins=30)"
   ]
  },
  {
   "cell_type": "code",
   "execution_count": 32,
   "metadata": {},
   "outputs": [
    {
     "name": "stdout",
     "output_type": "stream",
     "text": [
      "0     22919\n",
      "1     16124\n",
      "2      8171\n",
      "3      1830\n",
      "4       835\n",
      "5       825\n",
      "6       419\n",
      "7       287\n",
      "8        46\n",
      "9        12\n",
      "10        7\n",
      "11        5\n",
      "Name: register_type, dtype: int64\n"
     ]
    }
   ],
   "source": [
    "temp = df_user_register['register_type'].value_counts()\n",
    "print(temp)"
   ]
  },
  {
   "cell_type": "code",
   "execution_count": 59,
   "metadata": {},
   "outputs": [
    {
     "name": "stdout",
     "output_type": "stream",
     "text": [
      "       user_id  register_day  register_type  device_type\n",
      "5012    237290            30             11         3033\n",
      "5197    813004            22              9          894\n",
      "7622    910982            26             11           10\n",
      "9225    197498            17              9          513\n",
      "10097   467164            14              9          525\n",
      "11667  1282663            21              9          785\n",
      "13804   932703            24              9          861\n",
      "15819   556382            19              9          815\n",
      "19077   643857            22             11           10\n",
      "21069   275911            12              9          784\n",
      "23666    96811            25              9          910\n",
      "27901   303474            28             10         1300\n",
      "30197   105898            19             10         1919\n",
      "30827   772469            23              9          867\n",
      "35717   451926            16              9          239\n",
      "36060   322106            22             10          239\n",
      "37802   451825            20              9          827\n",
      "40039   267978             1             11          144\n",
      "40485    83969            18             10         2466\n",
      "44299   145125            23             10          239\n",
      "44501   762113            12              9          818\n",
      "44975   849259             1             11          144\n",
      "47121   160781            19             10            2\n",
      "51364  1321663            21             10          238\n"
     ]
    }
   ],
   "source": [
    "# rt9_10_11_user = \n",
    "print(df_user_register[df_user_register['register_type'].isin([9,10,11])])"
   ]
  },
  {
   "cell_type": "code",
   "execution_count": 34,
   "metadata": {},
   "outputs": [],
   "source": [
    "df_user_register['register_type'] = df_user_register['register_type'].astype(np.uint8)"
   ]
  },
  {
   "cell_type": "code",
   "execution_count": 36,
   "metadata": {},
   "outputs": [
    {
     "data": {
      "text/plain": [
       "<matplotlib.axes._subplots.AxesSubplot at 0x7f4f098e64a8>"
      ]
     },
     "execution_count": 36,
     "metadata": {},
     "output_type": "execute_result"
    },
    {
     "data": {
      "image/png": "[encoded data removed]",
      "text/plain": [
       "<Figure size 432x288 with 1 Axes>"
      ]
     },
     "metadata": {},
     "output_type": "display_data"
    }
   ],
   "source": [
    "sns.countplot(x='register_type', data=df_user_register)\n",
    "# plt.figure(figsize=(12,5))\n",
    "# plt.title(\"Distribution of register type\")\n",
    "# ax = sns.distplot(df_user_register[\"register_type\"],bins=12)"
   ]
  },
  {
   "cell_type": "code",
   "execution_count": 40,
   "metadata": {},
   "outputs": [
    {
     "name": "stdout",
     "output_type": "stream",
     "text": [
      "3    1290\n",
      "0     760\n",
      "1     537\n",
      "2     265\n",
      "5      45\n",
      "4      44\n",
      "7      17\n",
      "6      14\n",
      "8       6\n",
      "9       1\n",
      "Name: register_type, dtype: int64\n"
     ]
    },
    {
     "data": {
      "text/plain": [
       "<matplotlib.axes._subplots.AxesSubplot at 0x7f4f1125ca20>"
      ]
     },
     "execution_count": 40,
     "metadata": {},
     "output_type": "execute_result"
    },
    {
     "data": {
      "image/png": "[encoded data removed]",
      "text/plain": [
       "<Figure size 432x288 with 1 Axes>"
      ]
     },
     "metadata": {},
     "output_type": "display_data"
    }
   ],
   "source": [
    "temp_day24 = df_user_register[df_user_register[\"register_day\"]==24]\n",
    "print(temp_day24[\"register_type\"].value_counts())\n",
    "sns.countplot(x='register_type', data=temp_day24)"
   ]
  },
  {
   "cell_type": "code",
   "execution_count": 80,
   "metadata": {},
   "outputs": [],
   "source": [
    "# print(temp_day24[temp_day24[\"register_type\"]==3][\"device_type\"].value_counts())"
   ]
  },
  {
   "cell_type": "code",
   "execution_count": 75,
   "metadata": {},
   "outputs": [],
   "source": [
    "temp_day23 = df_user_register[df_user_register[\"register_day\"]==23]\n",
    "# print(temp_day23[temp_day23[\"register_type\"]==3][\"device_type\"].value_counts())\n",
    "# sns.countplot(x='device_type', data=temp_rt3)"
   ]
  },
  {
   "cell_type": "code",
   "execution_count": 65,
   "metadata": {},
   "outputs": [],
   "source": [
    "temp = df_user_register['device_type'].value_counts()\n",
    "# print(temp)\n",
    "# plt.figure(figsize=(12,5))\n",
    "# df_user_register['device_type'] = df_user_register['device_type'].astype(np.uint16)\n",
    "# sns.countplot(x='device_type', data=df_user_register)"
   ]
  },
  {
   "cell_type": "code",
   "execution_count": 82,
   "metadata": {},
   "outputs": [
    {
     "name": "stdout",
     "output_type": "stream",
     "text": [
      "       user_id  register_day  register_type  device_type  dt_count\n",
      "212     288007            24              4            1      1151\n",
      "8434    906864            25              3            1      1151\n",
      "10828   887048            24              4            1      1151\n",
      "11128   461135            25              3            1      1151\n",
      "12907   470632            24              4            1      1151\n",
      "14115   236223            25              3            1      1151\n",
      "14116   999561            25              3            1      1151\n",
      "14404  1318686            24              4            1      1151\n",
      "19131    44678            25              3            1      1151\n",
      "20009   658261            25              3            1      1151\n",
      "25146  1343035            25              3            1      1151\n",
      "29685     1066            26              3            1      1151\n",
      "31125   988353            24              4            1      1151\n",
      "32873  1026168            24              4            1      1151\n",
      "34328    57611            24              4            1      1151\n",
      "35093  1336013            13              4            1      1151\n",
      "35509  1179908            24              4            1      1151\n",
      "38791  1320076            24              4            1      1151\n",
      "38797   243240            25              3            1      1151\n",
      "39378  1043691            24              4            1      1151\n",
      "43712  1316993            24              4            1      1151\n",
      "45202  1232794            24              4            1      1151\n",
      "46362  1120163            25              3            1      1151\n",
      "47203   296455            24              4            1      1151\n"
     ]
    }
   ],
   "source": [
    "print(df_user_register[(df_user_register['device_type']==1)])"
   ]
  },
  {
   "cell_type": "code",
   "execution_count": 71,
   "metadata": {},
   "outputs": [],
   "source": [
    "df_user_register[\"dt_count\"] = df_user_register.groupby(['device_type'])['device_type'].transform(\"count\")"
   ]
  },
  {
   "cell_type": "code",
   "execution_count": 79,
   "metadata": {},
   "outputs": [],
   "source": [
    "# df_user_register[df_user_register[\"dt_count\"]==1]"
   ]
  },
  {
   "cell_type": "code",
   "execution_count": null,
   "metadata": {},
   "outputs": [],
   "source": [
    "# check out the outlier users "
   ]
  },
  {
   "cell_type": "code",
   "execution_count": 73,
   "metadata": {},
   "outputs": [],
   "source": [
    "user_outliers = df_user_register[(df_user_register[\"register_day\"]==24)&(df_user_register[\"register_type\"]==3)&((df_user_register[\"device_type\"]==1)|(df_user_register[\"device_type\"]==223)|(df_user_register[\"device_type\"]==83))][\"user_id\"].unique().tolist()\n"
   ]
  },
  {
   "cell_type": "code",
   "execution_count": 74,
   "metadata": {},
   "outputs": [],
   "source": [
    "df_user_register = df_user_register[~df_user_register[\"user_id\"].isin(user_outliers)]\n",
    "df_app_launch = df_app_launch[~df_app_launch[\"user_id\"].isin(user_outliers)]\n",
    "df_video_create = df_video_create[~df_video_create[\"user_id\"].isin(user_outliers)]\n",
    "df_user_activity = df_user_activity[~df_user_activity[\"user_id\"].isin(user_outliers)]"
   ]
  },
  {
   "cell_type": "code",
   "execution_count": 81,
   "metadata": {},
   "outputs": [
    {
     "data": {
      "text/plain": [
       "<matplotlib.axes._subplots.AxesSubplot at 0x7f4f03c92828>"
      ]
     },
     "execution_count": 81,
     "metadata": {},
     "output_type": "execute_result"
    },
    {
     "data": {
      "image/png": "[encoded data removed]",
      "text/plain": [
       "<Figure size 432x288 with 1 Axes>"
      ]
     },
     "metadata": {},
     "output_type": "display_data"
    }
   ],
   "source": [
    "sns.countplot(x='register_type', data=df_user_register)"
   ]
  },
  {
   "cell_type": "code",
   "execution_count": 83,
   "metadata": {},
   "outputs": [],
   "source": [
    "dt1_user = df_user_register[(df_user_register['device_type']==1)][\"user_id\"].tolist()"
   ]
  },
  {
   "cell_type": "code",
   "execution_count": 88,
   "metadata": {},
   "outputs": [
    {
     "data": {
      "text/html": [
       "<div>\n",
       "<style scoped>\n",
       "    .dataframe tbody tr th:only-of-type {\n",
       "        vertical-align: middle;\n",
       "    }\n",
       "\n",
       "    .dataframe tbody tr th {\n",
       "        vertical-align: top;\n",
       "    }\n",
       "\n",
       "    .dataframe thead th {\n",
       "        text-align: right;\n",
       "    }\n",
       "</style>\n",
       "<table border=\"1\" class=\"dataframe\">\n",
       "  <thead>\n",
       "    <tr style=\"text-align: right;\">\n",
       "      <th></th>\n",
       "      <th>user_id</th>\n",
       "      <th>app_launch_day</th>\n",
       "    </tr>\n",
       "  </thead>\n",
       "  <tbody>\n",
       "    <tr>\n",
       "      <th>75487</th>\n",
       "      <td>1026168</td>\n",
       "      <td>24</td>\n",
       "    </tr>\n",
       "    <tr>\n",
       "      <th>75662</th>\n",
       "      <td>1179908</td>\n",
       "      <td>24</td>\n",
       "    </tr>\n",
       "    <tr>\n",
       "      <th>77667</th>\n",
       "      <td>999561</td>\n",
       "      <td>25</td>\n",
       "    </tr>\n",
       "    <tr>\n",
       "      <th>127447</th>\n",
       "      <td>1336013</td>\n",
       "      <td>13</td>\n",
       "    </tr>\n",
       "    <tr>\n",
       "      <th>159491</th>\n",
       "      <td>988353</td>\n",
       "      <td>24</td>\n",
       "    </tr>\n",
       "    <tr>\n",
       "      <th>159636</th>\n",
       "      <td>1316993</td>\n",
       "      <td>24</td>\n",
       "    </tr>\n",
       "    <tr>\n",
       "      <th>160276</th>\n",
       "      <td>470632</td>\n",
       "      <td>24</td>\n",
       "    </tr>\n",
       "    <tr>\n",
       "      <th>161109</th>\n",
       "      <td>243240</td>\n",
       "      <td>25</td>\n",
       "    </tr>\n",
       "    <tr>\n",
       "      <th>161259</th>\n",
       "      <td>906864</td>\n",
       "      <td>25</td>\n",
       "    </tr>\n",
       "    <tr>\n",
       "      <th>161884</th>\n",
       "      <td>44678</td>\n",
       "      <td>25</td>\n",
       "    </tr>\n",
       "    <tr>\n",
       "      <th>162366</th>\n",
       "      <td>1120163</td>\n",
       "      <td>25</td>\n",
       "    </tr>\n",
       "    <tr>\n",
       "      <th>162965</th>\n",
       "      <td>1066</td>\n",
       "      <td>26</td>\n",
       "    </tr>\n",
       "    <tr>\n",
       "      <th>243643</th>\n",
       "      <td>1232794</td>\n",
       "      <td>24</td>\n",
       "    </tr>\n",
       "    <tr>\n",
       "      <th>244020</th>\n",
       "      <td>1320076</td>\n",
       "      <td>24</td>\n",
       "    </tr>\n",
       "    <tr>\n",
       "      <th>244312</th>\n",
       "      <td>1043691</td>\n",
       "      <td>24</td>\n",
       "    </tr>\n",
       "    <tr>\n",
       "      <th>244444</th>\n",
       "      <td>296455</td>\n",
       "      <td>24</td>\n",
       "    </tr>\n",
       "    <tr>\n",
       "      <th>244704</th>\n",
       "      <td>288007</td>\n",
       "      <td>24</td>\n",
       "    </tr>\n",
       "    <tr>\n",
       "      <th>244899</th>\n",
       "      <td>1318686</td>\n",
       "      <td>24</td>\n",
       "    </tr>\n",
       "    <tr>\n",
       "      <th>245116</th>\n",
       "      <td>57611</td>\n",
       "      <td>24</td>\n",
       "    </tr>\n",
       "    <tr>\n",
       "      <th>245120</th>\n",
       "      <td>887048</td>\n",
       "      <td>24</td>\n",
       "    </tr>\n",
       "    <tr>\n",
       "      <th>245814</th>\n",
       "      <td>236223</td>\n",
       "      <td>25</td>\n",
       "    </tr>\n",
       "    <tr>\n",
       "      <th>246001</th>\n",
       "      <td>461135</td>\n",
       "      <td>25</td>\n",
       "    </tr>\n",
       "    <tr>\n",
       "      <th>246507</th>\n",
       "      <td>1343035</td>\n",
       "      <td>25</td>\n",
       "    </tr>\n",
       "    <tr>\n",
       "      <th>246626</th>\n",
       "      <td>658261</td>\n",
       "      <td>25</td>\n",
       "    </tr>\n",
       "  </tbody>\n",
       "</table>\n",
       "</div>"
      ],
      "text/plain": [
       "        user_id  app_launch_day\n",
       "75487   1026168              24\n",
       "75662   1179908              24\n",
       "77667    999561              25\n",
       "127447  1336013              13\n",
       "159491   988353              24\n",
       "159636  1316993              24\n",
       "160276   470632              24\n",
       "161109   243240              25\n",
       "161259   906864              25\n",
       "161884    44678              25\n",
       "162366  1120163              25\n",
       "162965     1066              26\n",
       "243643  1232794              24\n",
       "244020  1320076              24\n",
       "244312  1043691              24\n",
       "244444   296455              24\n",
       "244704   288007              24\n",
       "244899  1318686              24\n",
       "245116    57611              24\n",
       "245120   887048              24\n",
       "245814   236223              25\n",
       "246001   461135              25\n",
       "246507  1343035              25\n",
       "246626   658261              25"
      ]
     },
     "execution_count": 88,
     "metadata": {},
     "output_type": "execute_result"
    }
   ],
   "source": [
    "df_app_launch[df_app_launch[\"user_id\"].isin(dt1_user)]\n"
   ]
  },
  {
   "cell_type": "code",
   "execution_count": 89,
   "metadata": {},
   "outputs": [
    {
     "data": {
      "text/html": [
       "<div>\n",
       "<style scoped>\n",
       "    .dataframe tbody tr th:only-of-type {\n",
       "        vertical-align: middle;\n",
       "    }\n",
       "\n",
       "    .dataframe tbody tr th {\n",
       "        vertical-align: top;\n",
       "    }\n",
       "\n",
       "    .dataframe thead th {\n",
       "        text-align: right;\n",
       "    }\n",
       "</style>\n",
       "<table border=\"1\" class=\"dataframe\">\n",
       "  <thead>\n",
       "    <tr style=\"text-align: right;\">\n",
       "      <th></th>\n",
       "      <th>user_id</th>\n",
       "      <th>user_activity_day</th>\n",
       "      <th>page</th>\n",
       "      <th>video_id</th>\n",
       "      <th>author_id</th>\n",
       "      <th>action_type</th>\n",
       "    </tr>\n",
       "  </thead>\n",
       "  <tbody>\n",
       "  </tbody>\n",
       "</table>\n",
       "</div>"
      ],
      "text/plain": [
       "Empty DataFrame\n",
       "Columns: [user_id, user_activity_day, page, video_id, author_id, action_type]\n",
       "Index: []"
      ]
     },
     "execution_count": 89,
     "metadata": {},
     "output_type": "execute_result"
    }
   ],
   "source": [
    "df_user_activity[df_user_activity[\"user_id\"].isin(dt1_user)]"
   ]
  },
  {
   "cell_type": "code",
   "execution_count": 93,
   "metadata": {},
   "outputs": [
    {
     "name": "stdout",
     "output_type": "stream",
     "text": [
      "1297\n"
     ]
    }
   ],
   "source": [
    "user_outliers = list(set(user_outliers+dt1_user))\n",
    "print(len(user_outliers))"
   ]
  },
  {
   "cell_type": "code",
   "execution_count": 91,
   "metadata": {},
   "outputs": [],
   "source": [
    "df_user_register = df_user_register[~df_user_register[\"user_id\"].isin(dt1_user)]\n",
    "df_app_launch = df_app_launch[~df_app_launch[\"user_id\"].isin(dt1_user)]\n",
    "df_video_create = df_video_create[~df_video_create[\"user_id\"].isin(dt1_user)]\n",
    "df_user_activity = df_user_activity[~df_user_activity[\"user_id\"].isin(dt1_user)]"
   ]
  },
  {
   "cell_type": "code",
   "execution_count": 94,
   "metadata": {},
   "outputs": [
    {
     "data": {
      "text/plain": [
       "(251199, 2)"
      ]
     },
     "execution_count": 94,
     "metadata": {},
     "output_type": "execute_result"
    }
   ],
   "source": [
    "df_app_launch.shape"
   ]
  },
  {
   "cell_type": "code",
   "execution_count": 95,
   "metadata": {},
   "outputs": [
    {
     "data": {
      "text/plain": [
       "50183"
      ]
     },
     "execution_count": 95,
     "metadata": {},
     "output_type": "execute_result"
    }
   ],
   "source": [
    "df_app_launch[\"user_id\"].nunique()"
   ]
  },
  {
   "cell_type": "code",
   "execution_count": 96,
   "metadata": {},
   "outputs": [
    {
     "data": {
      "text/plain": [
       "43488"
      ]
     },
     "execution_count": 96,
     "metadata": {},
     "output_type": "execute_result"
    }
   ],
   "source": [
    "df_user_activity[\"user_id\"].nunique()"
   ]
  },
  {
   "cell_type": "code",
   "execution_count": 99,
   "metadata": {},
   "outputs": [
    {
     "data": {
      "text/plain": [
       "Index(['user_id', 'app_launch_day'], dtype='object')"
      ]
     },
     "execution_count": 99,
     "metadata": {},
     "output_type": "execute_result"
    }
   ],
   "source": [
    "df_app_launch.columns\n"
   ]
  },
  {
   "cell_type": "code",
   "execution_count": 100,
   "metadata": {},
   "outputs": [
    {
     "data": {
      "text/plain": [
       "Index(['user_id', 'user_activity_day', 'page', 'video_id', 'author_id',\n",
       "       'action_type'],\n",
       "      dtype='object')"
      ]
     },
     "execution_count": 100,
     "metadata": {},
     "output_type": "execute_result"
    }
   ],
   "source": [
    "df_user_activity.columns"
   ]
  },
  {
   "cell_type": "code",
   "execution_count": 114,
   "metadata": {},
   "outputs": [],
   "source": [
    "app_user = df_app_launch[df_app_launch[\"app_launch_day\"]<=16][\"user_id\"].unique()\n",
    "activity_user = df_user_activity[df_user_activity[\"user_activity_day\"]<=16][\"user_id\"].unique()\n",
    "temp_unact_user = list(set(app_user)-set(activity_user))"
   ]
  },
  {
   "cell_type": "code",
   "execution_count": 115,
   "metadata": {},
   "outputs": [
    {
     "data": {
      "text/plain": [
       "3387"
      ]
     },
     "execution_count": 115,
     "metadata": {},
     "output_type": "execute_result"
    }
   ],
   "source": [
    "len(temp_unact_user)"
   ]
  },
  {
   "cell_type": "code",
   "execution_count": 116,
   "metadata": {},
   "outputs": [],
   "source": [
    "app_user_25 = df_app_launch[df_app_launch[\"app_launch_day\"]>23][\"user_id\"].unique()"
   ]
  },
  {
   "cell_type": "code",
   "execution_count": 117,
   "metadata": {},
   "outputs": [],
   "source": [
    "in_app = list(set(app_user_25).intersection(temp_unact_user))"
   ]
  },
  {
   "cell_type": "code",
   "execution_count": 118,
   "metadata": {},
   "outputs": [
    {
     "name": "stdout",
     "output_type": "stream",
     "text": [
      "372\n"
     ]
    }
   ],
   "source": [
    "print(len(in_app))"
   ]
  },
  {
   "cell_type": "code",
   "execution_count": 119,
   "metadata": {},
   "outputs": [
    {
     "name": "stdout",
     "output_type": "stream",
     "text": [
      "ratio of user with activity  0.011969882231803848\n"
     ]
    }
   ],
   "source": [
    "print(\"ratio of user with activity \", len(in_app)/len(app_user_25))"
   ]
  },
  {
   "cell_type": "code",
   "execution_count": 120,
   "metadata": {},
   "outputs": [],
   "source": [
    "# set a mark to dictate if a user launched an app had any activity\n"
   ]
  },
  {
   "cell_type": "code",
   "execution_count": 121,
   "metadata": {},
   "outputs": [
    {
     "data": {
      "text/plain": [
       "Index(['user_id', 'video_create_day'], dtype='object')"
      ]
     },
     "execution_count": 121,
     "metadata": {},
     "output_type": "execute_result"
    }
   ],
   "source": [
    "df_video_create.columns"
   ]
  },
  {
   "cell_type": "code",
   "execution_count": 125,
   "metadata": {},
   "outputs": [
    {
     "data": {
      "text/plain": [
       "5327"
      ]
     },
     "execution_count": 125,
     "metadata": {},
     "output_type": "execute_result"
    }
   ],
   "source": [
    "video_user = df_video_create[df_video_create[\"video_create_day\"]<=23][\"user_id\"].unique()\n",
    "len(video_user)"
   ]
  },
  {
   "cell_type": "code",
   "execution_count": 124,
   "metadata": {},
   "outputs": [
    {
     "data": {
      "text/plain": [
       "3508"
      ]
     },
     "execution_count": 124,
     "metadata": {},
     "output_type": "execute_result"
    }
   ],
   "source": [
    "in_app_video =  list(set(app_user_25).intersection(video_user))\n",
    "len(in_app_video)"
   ]
  },
  {
   "cell_type": "code",
   "execution_count": 126,
   "metadata": {},
   "outputs": [],
   "source": [
    "# mark if a user created video "
   ]
  },
  {
   "cell_type": "code",
   "execution_count": null,
   "metadata": {},
   "outputs": [],
   "source": []
  }
 ],
 "metadata": {
  "kernelspec": {
   "display_name": "Python 3",
   "language": "python",
   "name": "python3"
  },
  "language_info": {
   "codemirror_mode": {
    "name": "ipython",
    "version": 3
   },
   "file_extension": ".py",
   "mimetype": "text/x-python",
   "name": "python",
   "nbconvert_exporter": "python",
   "pygments_lexer": "ipython3",
   "version": "3.6.5"
  }
 },
 "nbformat": 4,
 "nbformat_minor": 2
}
